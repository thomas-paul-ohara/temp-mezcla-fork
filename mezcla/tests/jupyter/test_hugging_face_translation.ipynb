{
 "cells": [
  {
   "cell_type": "code",
   "execution_count": 1,
   "id": "d0c68779-9ee9-45ea-99bf-86125bbf0a9a",
   "metadata": {},
   "outputs": [
    {
     "name": "stdout",
     "output_type": "stream",
     "text": [
      "Using pip 23.3 from /opt/conda/lib/python3.10/site-packages/pip (python 3.10)\n",
      "Collecting git+https://github.com/tomasohara/mezcla@aviyan-dev\n",
      "  Cloning https://github.com/tomasohara/mezcla (to revision aviyan-dev) to /tmp/pip-req-build-bd7qpypt\n",
      "  Running command git version\n",
      "  git version 2.25.1\n",
      "  Running command git clone --filter=blob:none https://github.com/tomasohara/mezcla /tmp/pip-req-build-bd7qpypt\n",
      "  Cloning into '/tmp/pip-req-build-bd7qpypt'...\n",
      "  Updating files:  45% (83/181)\n",
      "  Updating files:  46% (84/181)\n",
      "  Updating files:  47% (86/181)\n",
      "  Updating files:  48% (87/181)\n",
      "  Updating files:  49% (89/181)\n",
      "  Updating files:  50% (91/181)\n",
      "  Updating files:  51% (93/181)\n",
      "  Updating files:  52% (95/181)\n",
      "  Updating files:  53% (96/181)\n",
      "  Updating files:  54% (98/181)\n",
      "  Updating files:  55% (100/181)\n",
      "  Updating files:  56% (102/181)\n",
      "  Updating files:  57% (104/181)\n",
      "  Updating files:  58% (105/181)\n",
      "  Updating files:  59% (107/181)\n",
      "  Updating files:  60% (109/181)\n",
      "  Updating files:  61% (111/181)\n",
      "  Updating files:  62% (113/181)\n",
      "  Updating files:  63% (115/181)\n",
      "  Updating files:  64% (116/181)\n",
      "  Updating files:  65% (118/181)\n",
      "  Updating files:  66% (120/181)\n",
      "  Updating files:  67% (122/181)\n",
      "  Updating files:  68% (124/181)\n",
      "  Updating files:  69% (125/181)\n",
      "  Updating files:  70% (127/181)\n",
      "  Updating files:  71% (129/181)\n",
      "  Updating files:  72% (131/181)\n",
      "  Updating files:  73% (133/181)\n",
      "  Updating files:  74% (134/181)\n",
      "  Updating files:  75% (136/181)\n",
      "  Updating files:  76% (138/181)\n",
      "  Updating files:  77% (140/181)\n",
      "  Updating files:  78% (142/181)\n",
      "  Updating files:  79% (143/181)\n",
      "  Updating files:  80% (145/181)\n",
      "  Updating files:  81% (147/181)\n",
      "  Updating files:  82% (149/181)\n",
      "  Updating files:  83% (151/181)\n",
      "  Updating files:  84% (153/181)\n",
      "  Updating files:  85% (154/181)\n",
      "  Updating files:  86% (156/181)\n",
      "  Updating files:  87% (158/181)\n",
      "  Updating files:  88% (160/181)\n",
      "  Updating files:  89% (162/181)\n",
      "  Updating files:  90% (163/181)\n",
      "  Updating files:  91% (165/181)\n",
      "  Updating files:  92% (167/181)\n",
      "  Updating files:  93% (169/181)\n",
      "  Updating files:  94% (171/181)\n",
      "  Updating files:  95% (172/181)\n",
      "  Updating files:  96% (174/181)\n",
      "  Updating files:  97% (176/181)\n",
      "  Updating files:  98% (178/181)\n",
      "  Updating files:  99% (180/181)\n",
      "  Updating files: 100% (181/181)\n",
      "  Updating files: 100% (181/181), done.\n",
      "  Running command git show-ref aviyan-dev\n",
      "  9b5426f081e42524a3f43a52602d250440eb8db7 refs/remotes/origin/aviyan-dev\n",
      "  Running command git symbolic-ref -q HEAD\n",
      "  refs/heads/main\n",
      "  Running command git checkout -b aviyan-dev --track origin/aviyan-dev\n",
      "  Switched to a new branch 'aviyan-dev'\n",
      "  Branch 'aviyan-dev' set up to track remote branch 'aviyan-dev' from 'origin'.\n",
      "  Resolved https://github.com/tomasohara/mezcla to commit 9b5426f081e42524a3f43a52602d250440eb8db7\n",
      "  Running command git rev-parse HEAD\n",
      "  9b5426f081e42524a3f43a52602d250440eb8db7\n",
      "  Running command pip subprocess to install build dependencies\n",
      "  Collecting poetry>=0.12\n",
      "    Using cached poetry-1.7.1-py3-none-any.whl.metadata (6.8 kB)\n",
      "  Collecting build<2.0.0,>=1.0.3 (from poetry>=0.12)\n",
      "    Using cached build-1.0.3-py3-none-any.whl.metadata (4.2 kB)\n",
      "  Collecting cachecontrol<0.14.0,>=0.13.0 (from cachecontrol[filecache]<0.14.0,>=0.13.0->poetry>=0.12)\n",
      "    Using cached cachecontrol-0.13.1-py3-none-any.whl.metadata (3.0 kB)\n",
      "  Collecting cleo<3.0.0,>=2.1.0 (from poetry>=0.12)\n",
      "    Using cached cleo-2.1.0-py3-none-any.whl.metadata (12 kB)\n",
      "  Collecting crashtest<0.5.0,>=0.4.1 (from poetry>=0.12)\n",
      "    Using cached crashtest-0.4.1-py3-none-any.whl (7.6 kB)\n",
      "  Collecting dulwich<0.22.0,>=0.21.2 (from poetry>=0.12)\n",
      "    Using cached dulwich-0.21.7-cp310-cp310-manylinux_2_17_x86_64.manylinux2014_x86_64.whl.metadata (4.3 kB)\n",
      "  Collecting fastjsonschema<3.0.0,>=2.18.0 (from poetry>=0.12)\n",
      "    Using cached fastjsonschema-2.19.0-py3-none-any.whl.metadata (2.0 kB)\n",
      "  Collecting installer<0.8.0,>=0.7.0 (from poetry>=0.12)\n",
      "    Using cached installer-0.7.0-py3-none-any.whl (453 kB)\n",
      "  Collecting keyring<25.0.0,>=24.0.0 (from poetry>=0.12)\n",
      "    Using cached keyring-24.3.0-py3-none-any.whl.metadata (20 kB)\n",
      "  Collecting packaging>=20.5 (from poetry>=0.12)\n",
      "    Using cached packaging-23.2-py3-none-any.whl.metadata (3.2 kB)\n",
      "  Collecting pexpect<5.0.0,>=4.7.0 (from poetry>=0.12)\n",
      "    Using cached pexpect-4.9.0-py2.py3-none-any.whl.metadata (2.5 kB)\n",
      "  Collecting pkginfo<2.0.0,>=1.9.4 (from poetry>=0.12)\n",
      "    Using cached pkginfo-1.9.6-py3-none-any.whl (30 kB)\n",
      "  Collecting platformdirs<4.0.0,>=3.0.0 (from poetry>=0.12)\n",
      "    Using cached platformdirs-3.11.0-py3-none-any.whl.metadata (11 kB)\n",
      "  Collecting poetry-core==1.8.1 (from poetry>=0.12)\n",
      "    Using cached poetry_core-1.8.1-py3-none-any.whl.metadata (3.5 kB)\n",
      "  Collecting poetry-plugin-export<2.0.0,>=1.6.0 (from poetry>=0.12)\n",
      "    Using cached poetry_plugin_export-1.6.0-py3-none-any.whl.metadata (2.8 kB)\n",
      "  Collecting pyproject-hooks<2.0.0,>=1.0.0 (from poetry>=0.12)\n",
      "    Using cached pyproject_hooks-1.0.0-py3-none-any.whl (9.3 kB)\n",
      "  Collecting requests<3.0,>=2.26 (from poetry>=0.12)\n",
      "    Using cached requests-2.31.0-py3-none-any.whl.metadata (4.6 kB)\n",
      "  Collecting requests-toolbelt<2,>=0.9.1 (from poetry>=0.12)\n",
      "    Using cached requests_toolbelt-1.0.0-py2.py3-none-any.whl (54 kB)\n",
      "  Collecting shellingham<2.0,>=1.5 (from poetry>=0.12)\n",
      "    Using cached shellingham-1.5.4-py2.py3-none-any.whl.metadata (3.5 kB)\n",
      "  Collecting tomli<3.0.0,>=2.0.1 (from poetry>=0.12)\n",
      "    Using cached tomli-2.0.1-py3-none-any.whl (12 kB)\n",
      "  Collecting tomlkit<1.0.0,>=0.11.4 (from poetry>=0.12)\n",
      "    Using cached tomlkit-0.12.3-py3-none-any.whl.metadata (2.7 kB)\n",
      "  Collecting trove-classifiers>=2022.5.19 (from poetry>=0.12)\n",
      "    Using cached trove_classifiers-2023.11.29-py3-none-any.whl.metadata (2.2 kB)\n",
      "  Collecting virtualenv<21.0.0,>=20.23.0 (from poetry>=0.12)\n",
      "    Using cached virtualenv-20.25.0-py3-none-any.whl.metadata (4.5 kB)\n",
      "  Collecting msgpack>=0.5.2 (from cachecontrol<0.14.0,>=0.13.0->cachecontrol[filecache]<0.14.0,>=0.13.0->poetry>=0.12)\n",
      "    Using cached msgpack-1.0.7-cp310-cp310-manylinux_2_17_x86_64.manylinux2014_x86_64.whl.metadata (9.1 kB)\n",
      "  Collecting filelock>=3.8.0 (from cachecontrol[filecache]<0.14.0,>=0.13.0->poetry>=0.12)\n",
      "    Using cached filelock-3.13.1-py3-none-any.whl.metadata (2.8 kB)\n",
      "  Collecting rapidfuzz<4.0.0,>=3.0.0 (from cleo<3.0.0,>=2.1.0->poetry>=0.12)\n",
      "    Using cached rapidfuzz-3.5.2-cp310-cp310-manylinux_2_17_x86_64.manylinux2014_x86_64.whl.metadata (11 kB)\n",
      "  Collecting urllib3>=1.25 (from dulwich<0.22.0,>=0.21.2->poetry>=0.12)\n",
      "    Using cached urllib3-2.1.0-py3-none-any.whl.metadata (6.4 kB)\n",
      "  Collecting jaraco.classes (from keyring<25.0.0,>=24.0.0->poetry>=0.12)\n",
      "    Using cached jaraco.classes-3.3.0-py3-none-any.whl.metadata (2.9 kB)\n",
      "  Collecting importlib-metadata>=4.11.4 (from keyring<25.0.0,>=24.0.0->poetry>=0.12)\n",
      "    Using cached importlib_metadata-7.0.0-py3-none-any.whl.metadata (4.9 kB)\n",
      "  Collecting SecretStorage>=3.2 (from keyring<25.0.0,>=24.0.0->poetry>=0.12)\n",
      "    Using cached SecretStorage-3.3.3-py3-none-any.whl (15 kB)\n",
      "  Collecting jeepney>=0.4.2 (from keyring<25.0.0,>=24.0.0->poetry>=0.12)\n",
      "    Using cached jeepney-0.8.0-py3-none-any.whl (48 kB)\n",
      "  Collecting ptyprocess>=0.5 (from pexpect<5.0.0,>=4.7.0->poetry>=0.12)\n",
      "    Using cached ptyprocess-0.7.0-py2.py3-none-any.whl (13 kB)\n",
      "  Collecting charset-normalizer<4,>=2 (from requests<3.0,>=2.26->poetry>=0.12)\n",
      "    Using cached charset_normalizer-3.3.2-cp310-cp310-manylinux_2_17_x86_64.manylinux2014_x86_64.whl.metadata (33 kB)\n",
      "  Collecting idna<4,>=2.5 (from requests<3.0,>=2.26->poetry>=0.12)\n",
      "    Using cached idna-3.6-py3-none-any.whl.metadata (9.9 kB)\n",
      "  Collecting certifi>=2017.4.17 (from requests<3.0,>=2.26->poetry>=0.12)\n",
      "    Using cached certifi-2023.11.17-py3-none-any.whl.metadata (2.2 kB)\n",
      "  Collecting distlib<1,>=0.3.7 (from virtualenv<21.0.0,>=20.23.0->poetry>=0.12)\n",
      "    Using cached distlib-0.3.7-py2.py3-none-any.whl.metadata (5.1 kB)\n",
      "  Collecting zipp>=0.5 (from importlib-metadata>=4.11.4->keyring<25.0.0,>=24.0.0->poetry>=0.12)\n",
      "    Using cached zipp-3.17.0-py3-none-any.whl.metadata (3.7 kB)\n",
      "  Collecting cryptography>=2.0 (from SecretStorage>=3.2->keyring<25.0.0,>=24.0.0->poetry>=0.12)\n",
      "    Using cached cryptography-41.0.7-cp37-abi3-manylinux_2_28_x86_64.whl.metadata (5.2 kB)\n",
      "  Collecting more-itertools (from jaraco.classes->keyring<25.0.0,>=24.0.0->poetry>=0.12)\n",
      "    Using cached more_itertools-10.1.0-py3-none-any.whl.metadata (33 kB)\n",
      "  Collecting cffi>=1.12 (from cryptography>=2.0->SecretStorage>=3.2->keyring<25.0.0,>=24.0.0->poetry>=0.12)\n",
      "    Using cached cffi-1.16.0-cp310-cp310-manylinux_2_17_x86_64.manylinux2014_x86_64.whl.metadata (1.5 kB)\n",
      "  Collecting pycparser (from cffi>=1.12->cryptography>=2.0->SecretStorage>=3.2->keyring<25.0.0,>=24.0.0->poetry>=0.12)\n",
      "    Using cached pycparser-2.21-py2.py3-none-any.whl (118 kB)\n",
      "  Using cached poetry-1.7.1-py3-none-any.whl (235 kB)\n",
      "  Using cached poetry_core-1.8.1-py3-none-any.whl (306 kB)\n",
      "  Using cached build-1.0.3-py3-none-any.whl (18 kB)\n",
      "  Using cached cachecontrol-0.13.1-py3-none-any.whl (22 kB)\n",
      "  Using cached cleo-2.1.0-py3-none-any.whl (78 kB)\n",
      "  Using cached dulwich-0.21.7-cp310-cp310-manylinux_2_17_x86_64.manylinux2014_x86_64.whl (514 kB)\n",
      "  Using cached fastjsonschema-2.19.0-py3-none-any.whl (23 kB)\n",
      "  Using cached keyring-24.3.0-py3-none-any.whl (38 kB)\n",
      "  Using cached packaging-23.2-py3-none-any.whl (53 kB)\n",
      "  Using cached pexpect-4.9.0-py2.py3-none-any.whl (63 kB)\n",
      "  Using cached platformdirs-3.11.0-py3-none-any.whl (17 kB)\n",
      "  Using cached poetry_plugin_export-1.6.0-py3-none-any.whl (10 kB)\n",
      "  Using cached requests-2.31.0-py3-none-any.whl (62 kB)\n",
      "  Using cached shellingham-1.5.4-py2.py3-none-any.whl (9.8 kB)\n",
      "  Using cached tomlkit-0.12.3-py3-none-any.whl (37 kB)\n",
      "  Using cached trove_classifiers-2023.11.29-py3-none-any.whl (13 kB)\n",
      "  Using cached virtualenv-20.25.0-py3-none-any.whl (3.8 MB)\n",
      "  Using cached certifi-2023.11.17-py3-none-any.whl (162 kB)\n",
      "  Using cached charset_normalizer-3.3.2-cp310-cp310-manylinux_2_17_x86_64.manylinux2014_x86_64.whl (142 kB)\n",
      "  Using cached distlib-0.3.7-py2.py3-none-any.whl (468 kB)\n",
      "  Using cached filelock-3.13.1-py3-none-any.whl (11 kB)\n",
      "  Using cached idna-3.6-py3-none-any.whl (61 kB)\n",
      "  Using cached importlib_metadata-7.0.0-py3-none-any.whl (23 kB)\n",
      "  Using cached msgpack-1.0.7-cp310-cp310-manylinux_2_17_x86_64.manylinux2014_x86_64.whl (530 kB)\n",
      "  Using cached rapidfuzz-3.5.2-cp310-cp310-manylinux_2_17_x86_64.manylinux2014_x86_64.whl (3.3 MB)\n",
      "  Using cached urllib3-2.1.0-py3-none-any.whl (104 kB)\n",
      "  Using cached jaraco.classes-3.3.0-py3-none-any.whl (5.9 kB)\n",
      "  Using cached cryptography-41.0.7-cp37-abi3-manylinux_2_28_x86_64.whl (4.4 MB)\n",
      "  Using cached zipp-3.17.0-py3-none-any.whl (7.4 kB)\n",
      "  Using cached more_itertools-10.1.0-py3-none-any.whl (55 kB)\n",
      "  Using cached cffi-1.16.0-cp310-cp310-manylinux_2_17_x86_64.manylinux2014_x86_64.whl (443 kB)\n",
      "  Installing collected packages: trove-classifiers, ptyprocess, fastjsonschema, distlib, zipp, urllib3, tomlkit, tomli, shellingham, rapidfuzz, pycparser, poetry-core, platformdirs, pkginfo, pexpect, packaging, msgpack, more-itertools, jeepney, installer, idna, filelock, crashtest, charset-normalizer, certifi, virtualenv, requests, pyproject-hooks, jaraco.classes, importlib-metadata, dulwich, cleo, cffi, requests-toolbelt, cryptography, cachecontrol, build, SecretStorage, keyring, poetry-plugin-export, poetry\n",
      "  Successfully installed SecretStorage-3.3.3 build-1.0.3 cachecontrol-0.13.1 certifi-2023.11.17 cffi-1.16.0 charset-normalizer-3.3.2 cleo-2.1.0 crashtest-0.4.1 cryptography-41.0.7 distlib-0.3.7 dulwich-0.21.7 fastjsonschema-2.19.0 filelock-3.13.1 idna-3.6 importlib-metadata-7.0.0 installer-0.7.0 jaraco.classes-3.3.0 jeepney-0.8.0 keyring-24.3.0 more-itertools-10.1.0 msgpack-1.0.7 packaging-23.2 pexpect-4.9.0 pkginfo-1.9.6 platformdirs-3.11.0 poetry-1.7.1 poetry-core-1.8.1 poetry-plugin-export-1.6.0 ptyprocess-0.7.0 pycparser-2.21 pyproject-hooks-1.0.0 rapidfuzz-3.5.2 requests-2.31.0 requests-toolbelt-1.0.0 shellingham-1.5.4 tomli-2.0.1 tomlkit-0.12.3 trove-classifiers-2023.11.29 urllib3-2.1.0 virtualenv-20.25.0 zipp-3.17.0\n",
      "  \u001b[33mWARNING: Running pip as the 'root' user can result in broken permissions and conflicting behaviour with the system package manager. It is recommended to use a virtual environment instead: https://pip.pypa.io/warnings/venv\u001b[0m\u001b[33m\n",
      "  \u001b[0m\n",
      "  Installing build dependencies ... \u001b[?25l\u001b[?25hdone\n",
      "  Running command Getting requirements to build wheel\n",
      "  Getting requirements to build wheel ... \u001b[?25l\u001b[?25hdone\n",
      "  Running command Preparing metadata (pyproject.toml)\n",
      "  Preparing metadata (pyproject.toml) ... \u001b[?25l\u001b[?25hdone\n",
      "\u001b[33mWARNING: Running pip as the 'root' user can result in broken permissions and conflicting behaviour with the system package manager. It is recommended to use a virtual environment instead: https://pip.pypa.io/warnings/venv\u001b[0m\u001b[33m\n",
      "\u001b[0m"
     ]
    }
   ],
   "source": [
    "# Check out specifc git branch of tomasohara/mezcla (e.g. aviyan-dev)\n",
    "# note: f-strings not needed with !-based commands\n",
    "# TODO: Find a way to install mezcla (GIT_BRANCH) before initializing instance (maybe startup script)\n",
    "GIT_BRANCH=\"aviyan-dev\"\n",
    "! pip install --verbose --no-cache-dir git+https://github.com/tomasohara/mezcla@{GIT_BRANCH}; 2> /dev/null"
   ]
  },
  {
   "cell_type": "code",
   "execution_count": 2,
   "id": "be926799-e613-4006-8df2-f3a9075a6a15",
   "metadata": {},
   "outputs": [
    {
     "name": "stdout",
     "output_type": "stream",
     "text": [
      "Requirement already satisfied: librosa in /opt/conda/lib/python3.10/site-packages (0.10.1)\n",
      "Requirement already satisfied: ibm_watson in /opt/conda/lib/python3.10/site-packages (7.0.1)\n",
      "Requirement already satisfied: SpeechRecognition in /opt/conda/lib/python3.10/site-packages (3.10.1)\n",
      "Requirement already satisfied: sentencepiece in /opt/conda/lib/python3.10/site-packages (0.1.99)\n",
      "Requirement already satisfied: sacremoses in /opt/conda/lib/python3.10/site-packages (0.1.1)\n",
      "Requirement already satisfied: audioread>=2.1.9 in /opt/conda/lib/python3.10/site-packages (from librosa) (3.0.1)\n",
      "Requirement already satisfied: numpy!=1.22.0,!=1.22.1,!=1.22.2,>=1.20.3 in /opt/conda/lib/python3.10/site-packages (from librosa) (1.26.0)\n",
      "Requirement already satisfied: scipy>=1.2.0 in /opt/conda/lib/python3.10/site-packages (from librosa) (1.11.4)\n",
      "Requirement already satisfied: scikit-learn>=0.20.0 in /opt/conda/lib/python3.10/site-packages (from librosa) (1.3.2)\n",
      "Requirement already satisfied: joblib>=0.14 in /opt/conda/lib/python3.10/site-packages (from librosa) (1.3.2)\n",
      "Requirement already satisfied: decorator>=4.3.0 in /opt/conda/lib/python3.10/site-packages (from librosa) (5.1.1)\n",
      "Requirement already satisfied: numba>=0.51.0 in /opt/conda/lib/python3.10/site-packages (from librosa) (0.58.1)\n",
      "Requirement already satisfied: soundfile>=0.12.1 in /opt/conda/lib/python3.10/site-packages (from librosa) (0.12.1)\n",
      "Requirement already satisfied: pooch>=1.0 in /opt/conda/lib/python3.10/site-packages (from librosa) (1.8.0)\n",
      "Requirement already satisfied: soxr>=0.3.2 in /opt/conda/lib/python3.10/site-packages (from librosa) (0.3.7)\n",
      "Requirement already satisfied: typing-extensions>=4.1.1 in /opt/conda/lib/python3.10/site-packages (from librosa) (4.7.1)\n",
      "Requirement already satisfied: lazy-loader>=0.1 in /opt/conda/lib/python3.10/site-packages (from librosa) (0.3)\n",
      "Requirement already satisfied: msgpack>=1.0 in /opt/conda/lib/python3.10/site-packages (from librosa) (1.0.7)\n",
      "Requirement already satisfied: requests<3.0,>=2.0 in /opt/conda/lib/python3.10/site-packages (from ibm_watson) (2.31.0)\n",
      "Requirement already satisfied: python-dateutil>=2.5.3 in /opt/conda/lib/python3.10/site-packages (from ibm_watson) (2.8.2)\n",
      "Requirement already satisfied: websocket-client>=1.1.0 in /opt/conda/lib/python3.10/site-packages (from ibm_watson) (1.6.4)\n",
      "Requirement already satisfied: ibm-cloud-sdk-core==3.*,>=3.3.6 in /opt/conda/lib/python3.10/site-packages (from ibm_watson) (3.18.1)\n",
      "Requirement already satisfied: urllib3<3.0.0,>=2.1.0 in /opt/conda/lib/python3.10/site-packages (from ibm-cloud-sdk-core==3.*,>=3.3.6->ibm_watson) (2.1.0)\n",
      "Requirement already satisfied: PyJWT<3.0.0,>=2.8.0 in /opt/conda/lib/python3.10/site-packages (from ibm-cloud-sdk-core==3.*,>=3.3.6->ibm_watson) (2.8.0)\n",
      "Requirement already satisfied: regex in /opt/conda/lib/python3.10/site-packages (from sacremoses) (2023.10.3)\n",
      "Requirement already satisfied: click in /opt/conda/lib/python3.10/site-packages (from sacremoses) (8.1.7)\n",
      "Requirement already satisfied: tqdm in /opt/conda/lib/python3.10/site-packages (from sacremoses) (4.65.0)\n",
      "Requirement already satisfied: llvmlite<0.42,>=0.41.0dev0 in /opt/conda/lib/python3.10/site-packages (from numba>=0.51.0->librosa) (0.41.1)\n",
      "Requirement already satisfied: platformdirs>=2.5.0 in /opt/conda/lib/python3.10/site-packages (from pooch>=1.0->librosa) (4.0.0)\n",
      "Requirement already satisfied: packaging>=20.0 in /opt/conda/lib/python3.10/site-packages (from pooch>=1.0->librosa) (23.1)\n",
      "Requirement already satisfied: six>=1.5 in /opt/conda/lib/python3.10/site-packages (from python-dateutil>=2.5.3->ibm_watson) (1.16.0)\n",
      "Requirement already satisfied: charset-normalizer<4,>=2 in /opt/conda/lib/python3.10/site-packages (from requests<3.0,>=2.0->ibm_watson) (2.0.4)\n",
      "Requirement already satisfied: idna<4,>=2.5 in /opt/conda/lib/python3.10/site-packages (from requests<3.0,>=2.0->ibm_watson) (3.4)\n",
      "Requirement already satisfied: certifi>=2017.4.17 in /opt/conda/lib/python3.10/site-packages (from requests<3.0,>=2.0->ibm_watson) (2023.11.17)\n",
      "Requirement already satisfied: threadpoolctl>=2.0.0 in /opt/conda/lib/python3.10/site-packages (from scikit-learn>=0.20.0->librosa) (3.2.0)\n",
      "Requirement already satisfied: cffi>=1.0 in /opt/conda/lib/python3.10/site-packages (from soundfile>=0.12.1->librosa) (1.16.0)\n",
      "Requirement already satisfied: pycparser in /opt/conda/lib/python3.10/site-packages (from cffi>=1.0->soundfile>=0.12.1->librosa) (2.21)\n",
      "\u001b[33mWARNING: Running pip as the 'root' user can result in broken permissions and conflicting behaviour with the system package manager. It is recommended to use a virtual environment instead: https://pip.pypa.io/warnings/venv\u001b[0m\u001b[33m\n",
      "\u001b[0m"
     ]
    }
   ],
   "source": [
    "# OLD: requirements.txt updated for aviyan-dev\n",
    "! pip install librosa ibm_watson SpeechRecognition sentencepiece sacremoses"
   ]
  },
  {
   "cell_type": "code",
   "execution_count": 3,
   "id": "97889b27-9b66-42d5-a431-ef3c0bce971f",
   "metadata": {},
   "outputs": [
    {
     "name": "stdout",
     "output_type": "stream",
     "text": [
      "/opt/conda/lib/python3.10/site-packages/mezcla/simple_main_example.py\n"
     ]
    }
   ],
   "source": [
    "! find / -name \"simple_main_example.py\" 2> /dev/null"
   ]
  },
  {
   "cell_type": "code",
   "execution_count": 4,
   "id": "6349ad77-7b10-4e7f-a9f4-ae72e01b35e3",
   "metadata": {},
   "outputs": [],
   "source": [
    "MEZCLA_DIR=\"/opt/conda/lib/python3.10/site-packages/mezcla/\"\n",
    "HUGGING_FACE_TRANS_PATH=f\"{MEZCLA_DIR}examples/hugging_face_translation.py\""
   ]
  },
  {
   "cell_type": "code",
   "execution_count": 5,
   "id": "e46994d1-f592-4ebe-831a-99a49c258305",
   "metadata": {},
   "outputs": [
    {
     "name": "stdout",
     "output_type": "stream",
     "text": [
      "Hello World\n"
     ]
    }
   ],
   "source": [
    "# Importing glue_helpers for comparision & path resolving\n",
    "from mezcla import glue_helpers as gh\n",
    "SAMPLE_OUTPUT=gh.run('echo \"Hello World\"')\n",
    "print(SAMPLE_OUTPUT)"
   ]
  },
  {
   "cell_type": "code",
   "execution_count": 6,
   "id": "ce6d632d-2dc5-44ed-9f7f-00b3c4f2f57d",
   "metadata": {},
   "outputs": [
    {
     "name": "stdout",
     "output_type": "stream",
     "text": [
      "#! /usr/bin/env python\n",
      "#\n",
      "# Uses the Hugging Face API for machine translation (MT)\n",
      "#\n",
      "# Based on:\n",
      "# - https://stackoverflow.com/questions/71568142/how-can-i-extract-and-store-the-text-generated-from-an-automatic-speech-recognit\n",
      "# - Hugging Face's NLP with Transformers text\n",
      "#\n",
      "\n",
      "\"\"\"Machine translation via Hugging Face\n",
      "\n",
      "Example:\n",
      "\n",
      "echo \"How now Bourne cow?\" | FROM=en TO=es {script} -\n",
      "\n",
      "USE_INTERFACE=1 {script} -\n",
      "\"\"\"\n",
      "\n"
     ]
    }
   ],
   "source": [
    "! cat {HUGGING_FACE_TRANS_PATH} | head -n 18 2> /dev/null"
   ]
  },
  {
   "cell_type": "code",
   "execution_count": 7,
   "id": "f063c2c3-38a8-4e23-97fe-8a57b4225419",
   "metadata": {},
   "outputs": [
    {
     "name": "stdout",
     "output_type": "stream",
     "text": [
      "Hi, I'm Dora.\n"
     ]
    }
   ],
   "source": [
    "## By default: Translation from ES to EN\n",
    "\n",
    "## OLD: Use the example from the script for clean output\n",
    "# ! python3 {HUGGING_FACE_TRANS_PATH} --text \"Hola Soy Dora\"\n",
    "TRANSLATION_INPUT=\"Hola Soy Dora\"\n",
    "! echo {TRANSLATION_INPUT} | python3 {HUGGING_FACE_TRANS_PATH} - 2> /dev/null"
   ]
  },
  {
   "cell_type": "code",
   "execution_count": 8,
   "id": "14daeb8a-e1bb-4c79-9f92-5895db897227",
   "metadata": {},
   "outputs": [
    {
     "name": "stdout",
     "output_type": "stream",
     "text": [
      "C'est mignon.\n"
     ]
    }
   ],
   "source": [
    "## Translation from SOURCE=en to TARGET language\n",
    "## Example: EN to FR\n",
    "## Expected Output: \"It is cute.\" -> \"C'est mignon.\"\n",
    "TRANSLATION_INPUT=\"It is cute.\"\n",
    "! echo {TRANSLATION_INPUT} | FROM=en TO=fr python3 {HUGGING_FACE_TRANS_PATH} - 2> /dev/null"
   ]
  },
  {
   "cell_type": "code",
   "execution_count": 9,
   "id": "11c7723c-2740-4525-828f-758762963a8b",
   "metadata": {},
   "outputs": [
    {
     "name": "stdout",
     "output_type": "stream",
     "text": [
      "It's cute, isn't it?\n"
     ]
    }
   ],
   "source": [
    "## Translation from SOURCE to TARGET=en language\n",
    "## Example: JA to EN\n",
    "## Expected Output: \"かわいいですね。\" -> \"It is cute.\" (Kawaīdesu ne.)\n",
    "TRANSLATION_INPUT=\"かわいいですね。\"\n",
    "! echo {TRANSLATION_INPUT} | FROM=ja TO=en python3 {HUGGING_FACE_TRANS_PATH} - 2> /dev/null\n",
    "\n",
    "## TODO:\n",
    "# TRANSLATION_OUTPUT_CMD=\"echo $TRANSLATION_INPUT | FROM=ja TO=en python3 $HUGGING_FACE_TRANS_PATH - 2> /dev/null\"\n",
    "# print(gh.run(TRANSLATION_OUTPUT_CMD))"
   ]
  },
  {
   "cell_type": "code",
   "execution_count": 10,
   "id": "ecb8f5c1-1ce4-4b70-bb62-1e957c26d607",
   "metadata": {},
   "outputs": [
    {
     "name": "stdout",
     "output_type": "stream",
     "text": [
      "حسناً، هذا غريب جداً\n"
     ]
    }
   ],
   "source": [
    "## Translation from SOURCE to TARGET language (non-EN)\n",
    "## Example: RU to AR\n",
    "## Expected Output: \"Ну, это слишком странно.\" -> \"حسنا، هذا غريب جدا.\" (EN: Well, this is too bizarre.)\n",
    "TRANSLATION_INPUT=\"Ну, это слишком странно\"\n",
    "TRANSLATION_OUTPUT=\"حسنا، هذا غريب جدا\"\n",
    "! echo {TRANSLATION_INPUT} | FROM=ru TO=ar python3 {HUGGING_FACE_TRANS_PATH} - 2> /dev/null\n",
    "\n",
    "## TODO:\n",
    "# TRANSLATION_OUTPUT_ACTUAL=gh.run('echo $TRANSLATION_INPUT | FROM=ru TO=ar python3 $HUGGING_FACE_TRANS_PATH - 2> /dev/null')\n",
    "# print(TRANSLATION_OUTPUT_ACTUAL)"
   ]
  },
  {
   "cell_type": "code",
   "execution_count": 11,
   "id": "1f7dee89-f8ed-4b54-9ad9-d732a90f9c25",
   "metadata": {},
   "outputs": [
    {
     "name": "stdout",
     "output_type": "stream",
     "text": [
      "Ein kiss ist alles, es braucht, wenn man mich in die Liebe fällt.\n"
     ]
    }
   ],
   "source": [
    "## Translation using different model (--model option)\n",
    "## Example: t5-small (default: EN -> DE)\n",
    "MT_MODEL=\"t5-small\"\n",
    "TRANSLATION_INPUT=\"One kiss is all it takes, falling in love with me.\"\n",
    "! echo {TRANSLATION_INPUT} | python3 {HUGGING_FACE_TRANS_PATH} --model {MT_MODEL} - 2> /dev/null"
   ]
  },
  {
   "cell_type": "code",
   "execution_count": 12,
   "id": "4d9ab3d4-8434-4c5f-9b1e-32c6a4bf2d8b",
   "metadata": {},
   "outputs": [
    {
     "name": "stdout",
     "output_type": "stream",
     "text": [
      "The sun shines in the blue sky. Birds sing in the trees. The beach is beautiful at sunset. I enjoy a cup of coffee in the morning. I walk through the park every day. The mountain looks awesome under the moon. I love reading books in my free time. The city is full of life and energy. I exercise to stay in shape. Homemade food is always the best. My family and I go on vacation in summer. The stars shine in the night sky. I like to hear relaxing music. The colors of autumn are awesome. I practice sports to keep me active. The rain sounds comforting on the roof. Adventure movies are my favorite. Spring brings with it new flowers. I cook new recipes every week. Friends are like stars in my life. Ancient architecture is fascinating. I love exploring new places. The laughter is the best medicine. The night is full of mystery. I appreciate the small moments of life. Technology facilitates communication. Love and friendship are important. I observe clouds in the sky. The Spanish culture is rich and diverse.\n"
     ]
    }
   ],
   "source": [
    "## Translating a text file (mass translation)\n",
    "TEST_RESOURCE_ES = gh.resolve_path(\"./resource/sentence_es_30.txt\")\n",
    "! python3 {HUGGING_FACE_TRANS_PATH} {TEST_RESOURCE_ES} 2> /dev/null\n"
   ]
  },
  {
   "cell_type": "code",
   "execution_count": 13,
   "id": "c8043236-b63f-4b38-9d79-8fe68a0aed4b",
   "metadata": {},
   "outputs": [
    {
     "name": "stdout",
     "output_type": "stream",
     "text": [
      "Hi, I'm Dora.\n",
      "Elapsed time: 3712.519000ms\n"
     ]
    }
   ],
   "source": [
    "## Testing SHOW_ELAPSED environment variable on first example\n",
    "TRANSLATION_INPUT=\"Hola Soy Dora\"\n",
    "! echo {TRANSLATION_INPUT} | SHOW_ELAPSED=1 python3 {HUGGING_FACE_TRANS_PATH} - 2> /dev/null"
   ]
  }
 ],
 "metadata": {
  "kernelspec": {
   "display_name": "Python 3 (ipykernel)",
   "language": "python",
   "name": "python3"
  },
  "language_info": {
   "codemirror_mode": {
    "name": "ipython",
    "version": 3
   },
   "file_extension": ".py",
   "mimetype": "text/x-python",
   "name": "python",
   "nbconvert_exporter": "python",
   "pygments_lexer": "ipython3",
   "version": "3.10.13"
  }
 },
 "nbformat": 4,
 "nbformat_minor": 5
}
