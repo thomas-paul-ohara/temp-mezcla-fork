{
 "cells": [
  {
   "cell_type": "code",
   "execution_count": 1,
   "id": "ec789fcf",
   "metadata": {},
   "outputs": [
    {
     "name": "stdout",
     "output_type": "stream",
     "text": [
      "Using pip 23.3 from /opt/conda/lib/python3.10/site-packages/pip (python 3.10)\n",
      "Collecting git+https://github.com/tomasohara/mezcla@aviyan-dev\n",
      "  Cloning https://github.com/tomasohara/mezcla (to revision aviyan-dev) to /tmp/pip-req-build-986tb0qp\n",
      "  Running command git version\n",
      "  git version 2.25.1\n",
      "  Running command git clone --filter=blob:none https://github.com/tomasohara/mezcla /tmp/pip-req-build-986tb0qp\n",
      "  Cloning into '/tmp/pip-req-build-986tb0qp'...\n",
      "  Updating files:   0% (2/217)\n",
      "  Updating files:   1% (3/217)\n",
      "  Updating files:   2% (5/217)\n",
      "  Updating files:   3% (7/217)\n",
      "  Updating files:   4% (9/217)\n",
      "  Updating files:   5% (11/217)\n",
      "  Updating files:   6% (14/217)\n",
      "  Updating files:   7% (16/217)\n",
      "  Updating files:   8% (18/217)\n",
      "  Updating files:   9% (20/217)\n",
      "  Updating files:  10% (22/217)\n",
      "  Updating files:  11% (24/217)\n",
      "  Updating files:  12% (27/217)\n",
      "  Updating files:  13% (29/217)\n",
      "  Updating files:  14% (31/217)\n",
      "  Updating files:  15% (33/217)\n",
      "  Updating files:  16% (35/217)\n",
      "  Updating files:  17% (37/217)\n",
      "  Updating files:  18% (40/217)\n",
      "  Updating files:  19% (42/217)\n",
      "  Updating files:  20% (44/217)\n",
      "  Updating files:  21% (46/217)\n",
      "  Updating files:  22% (48/217)\n",
      "  Updating files:  23% (50/217)\n",
      "  Updating files:  24% (53/217)\n",
      "  Updating files:  25% (55/217)\n",
      "  Updating files:  26% (57/217)\n",
      "  Updating files:  27% (59/217)\n",
      "  Updating files:  28% (61/217)\n",
      "  Updating files:  29% (63/217)\n",
      "  Updating files:  30% (66/217)\n",
      "  Updating files:  31% (68/217)\n",
      "  Updating files:  32% (70/217)\n",
      "  Updating files:  33% (72/217)\n",
      "  Updating files:  34% (74/217)\n",
      "  Updating files:  35% (76/217)\n",
      "  Updating files:  36% (79/217)\n",
      "  Updating files:  37% (81/217)\n",
      "  Updating files:  38% (83/217)\n",
      "  Updating files:  39% (85/217)\n",
      "  Updating files:  40% (87/217)\n",
      "  Updating files:  41% (89/217)\n",
      "  Updating files:  42% (92/217)\n",
      "  Updating files:  43% (94/217)\n",
      "  Updating files:  44% (96/217)\n",
      "  Updating files:  45% (98/217)\n",
      "  Updating files:  46% (100/217)\n",
      "  Updating files:  47% (102/217)\n",
      "  Updating files:  48% (105/217)\n",
      "  Updating files:  49% (107/217)\n",
      "  Updating files:  50% (109/217)\n",
      "  Updating files:  51% (111/217)\n",
      "  Updating files:  52% (113/217)\n",
      "  Updating files:  53% (116/217)\n",
      "  Updating files:  54% (118/217)\n",
      "  Updating files:  55% (120/217)\n",
      "  Updating files:  56% (122/217)\n",
      "  Updating files:  57% (124/217)\n",
      "  Updating files:  58% (126/217)\n",
      "  Updating files:  59% (129/217)\n",
      "  Updating files:  60% (131/217)\n",
      "  Updating files:  61% (133/217)\n",
      "  Updating files:  62% (135/217)\n",
      "  Updating files:  63% (137/217)\n",
      "  Updating files:  64% (139/217)\n",
      "  Updating files:  65% (142/217)\n",
      "  Updating files:  66% (144/217)\n",
      "  Updating files:  67% (146/217)\n",
      "  Updating files:  68% (148/217)\n",
      "  Updating files:  69% (150/217)\n",
      "  Updating files:  70% (152/217)\n",
      "  Updating files:  71% (155/217)\n",
      "  Updating files:  72% (157/217)\n",
      "  Updating files:  73% (159/217)\n",
      "  Updating files:  74% (161/217)\n",
      "  Updating files:  75% (163/217)\n",
      "  Updating files:  76% (165/217)\n",
      "  Updating files:  77% (168/217)\n",
      "  Updating files:  78% (170/217)\n",
      "  Updating files:  79% (172/217)\n",
      "  Updating files:  80% (174/217)\n",
      "  Updating files:  81% (176/217)\n",
      "  Updating files:  82% (178/217)\n",
      "  Updating files:  83% (181/217)\n",
      "  Updating files:  84% (183/217)\n",
      "  Updating files:  85% (185/217)\n",
      "  Updating files:  86% (187/217)\n",
      "  Updating files:  87% (189/217)\n",
      "  Updating files:  88% (191/217)\n",
      "  Updating files:  89% (194/217)\n",
      "  Updating files:  90% (196/217)\n",
      "  Updating files:  91% (198/217)\n",
      "  Updating files:  92% (200/217)\n",
      "  Updating files:  93% (202/217)\n",
      "  Updating files:  94% (204/217)\n",
      "  Updating files:  95% (207/217)\n",
      "  Updating files:  96% (209/217)\n",
      "  Updating files:  97% (211/217)\n",
      "  Updating files:  98% (213/217)\n",
      "  Updating files:  99% (215/217)\n",
      "  Updating files: 100% (217/217)\n",
      "  Updating files: 100% (217/217), done.\n",
      "  Running command git show-ref aviyan-dev\n",
      "  cfcae43fc1afee74185d6c05cef38e35250a49c6 refs/remotes/origin/aviyan-dev\n",
      "  Running command git symbolic-ref -q HEAD\n",
      "  refs/heads/main\n",
      "  Running command git checkout -b aviyan-dev --track origin/aviyan-dev\n",
      "  Switched to a new branch 'aviyan-dev'\n",
      "  Branch 'aviyan-dev' set up to track remote branch 'aviyan-dev' from 'origin'.\n",
      "  Resolved https://github.com/tomasohara/mezcla to commit cfcae43fc1afee74185d6c05cef38e35250a49c6\n",
      "  Running command git rev-parse HEAD\n",
      "  cfcae43fc1afee74185d6c05cef38e35250a49c6\n",
      "  Running command pip subprocess to install build dependencies\n",
      "  Collecting poetry>=0.12\n",
      "    Using cached poetry-1.7.1-py3-none-any.whl.metadata (6.8 kB)\n",
      "  Collecting build<2.0.0,>=1.0.3 (from poetry>=0.12)\n",
      "    Using cached build-1.0.3-py3-none-any.whl.metadata (4.2 kB)\n",
      "  Collecting cachecontrol<0.14.0,>=0.13.0 (from cachecontrol[filecache]<0.14.0,>=0.13.0->poetry>=0.12)\n",
      "    Using cached cachecontrol-0.13.1-py3-none-any.whl.metadata (3.0 kB)\n",
      "  Collecting cleo<3.0.0,>=2.1.0 (from poetry>=0.12)\n",
      "    Using cached cleo-2.1.0-py3-none-any.whl.metadata (12 kB)\n",
      "  Collecting crashtest<0.5.0,>=0.4.1 (from poetry>=0.12)\n",
      "    Using cached crashtest-0.4.1-py3-none-any.whl (7.6 kB)\n",
      "  Collecting dulwich<0.22.0,>=0.21.2 (from poetry>=0.12)\n",
      "    Using cached dulwich-0.21.7-cp310-cp310-manylinux_2_17_x86_64.manylinux2014_x86_64.whl.metadata (4.3 kB)\n",
      "  Collecting fastjsonschema<3.0.0,>=2.18.0 (from poetry>=0.12)\n",
      "    Using cached fastjsonschema-2.19.0-py3-none-any.whl.metadata (2.0 kB)\n",
      "  Collecting installer<0.8.0,>=0.7.0 (from poetry>=0.12)\n",
      "    Using cached installer-0.7.0-py3-none-any.whl (453 kB)\n",
      "  Collecting keyring<25.0.0,>=24.0.0 (from poetry>=0.12)\n",
      "    Using cached keyring-24.3.0-py3-none-any.whl.metadata (20 kB)\n",
      "  Collecting packaging>=20.5 (from poetry>=0.12)\n",
      "    Using cached packaging-23.2-py3-none-any.whl.metadata (3.2 kB)\n",
      "  Collecting pexpect<5.0.0,>=4.7.0 (from poetry>=0.12)\n",
      "    Using cached pexpect-4.9.0-py2.py3-none-any.whl.metadata (2.5 kB)\n",
      "  Collecting pkginfo<2.0.0,>=1.9.4 (from poetry>=0.12)\n",
      "    Using cached pkginfo-1.9.6-py3-none-any.whl (30 kB)\n",
      "  Collecting platformdirs<4.0.0,>=3.0.0 (from poetry>=0.12)\n",
      "    Using cached platformdirs-3.11.0-py3-none-any.whl.metadata (11 kB)\n",
      "  Collecting poetry-core==1.8.1 (from poetry>=0.12)\n",
      "    Using cached poetry_core-1.8.1-py3-none-any.whl.metadata (3.5 kB)\n",
      "  Collecting poetry-plugin-export<2.0.0,>=1.6.0 (from poetry>=0.12)\n",
      "    Using cached poetry_plugin_export-1.6.0-py3-none-any.whl.metadata (2.8 kB)\n",
      "  Collecting pyproject-hooks<2.0.0,>=1.0.0 (from poetry>=0.12)\n",
      "    Using cached pyproject_hooks-1.0.0-py3-none-any.whl (9.3 kB)\n",
      "  Collecting requests<3.0,>=2.26 (from poetry>=0.12)\n",
      "    Using cached requests-2.31.0-py3-none-any.whl.metadata (4.6 kB)\n",
      "  Collecting requests-toolbelt<2,>=0.9.1 (from poetry>=0.12)\n",
      "    Using cached requests_toolbelt-1.0.0-py2.py3-none-any.whl (54 kB)\n",
      "  Collecting shellingham<2.0,>=1.5 (from poetry>=0.12)\n",
      "    Using cached shellingham-1.5.4-py2.py3-none-any.whl.metadata (3.5 kB)\n",
      "  Collecting tomli<3.0.0,>=2.0.1 (from poetry>=0.12)\n",
      "    Using cached tomli-2.0.1-py3-none-any.whl (12 kB)\n",
      "  Collecting tomlkit<1.0.0,>=0.11.4 (from poetry>=0.12)\n",
      "    Using cached tomlkit-0.12.3-py3-none-any.whl.metadata (2.7 kB)\n",
      "  Collecting trove-classifiers>=2022.5.19 (from poetry>=0.12)\n",
      "    Using cached trove_classifiers-2023.11.29-py3-none-any.whl.metadata (2.2 kB)\n",
      "  Collecting virtualenv<21.0.0,>=20.23.0 (from poetry>=0.12)\n",
      "    Using cached virtualenv-20.25.0-py3-none-any.whl.metadata (4.5 kB)\n",
      "  Collecting msgpack>=0.5.2 (from cachecontrol<0.14.0,>=0.13.0->cachecontrol[filecache]<0.14.0,>=0.13.0->poetry>=0.12)\n",
      "    Using cached msgpack-1.0.7-cp310-cp310-manylinux_2_17_x86_64.manylinux2014_x86_64.whl.metadata (9.1 kB)\n",
      "  Collecting filelock>=3.8.0 (from cachecontrol[filecache]<0.14.0,>=0.13.0->poetry>=0.12)\n",
      "    Using cached filelock-3.13.1-py3-none-any.whl.metadata (2.8 kB)\n",
      "  Collecting rapidfuzz<4.0.0,>=3.0.0 (from cleo<3.0.0,>=2.1.0->poetry>=0.12)\n",
      "    Using cached rapidfuzz-3.5.2-cp310-cp310-manylinux_2_17_x86_64.manylinux2014_x86_64.whl.metadata (11 kB)\n",
      "  Collecting urllib3>=1.25 (from dulwich<0.22.0,>=0.21.2->poetry>=0.12)\n",
      "    Using cached urllib3-2.1.0-py3-none-any.whl.metadata (6.4 kB)\n",
      "  Collecting jaraco.classes (from keyring<25.0.0,>=24.0.0->poetry>=0.12)\n",
      "    Using cached jaraco.classes-3.3.0-py3-none-any.whl.metadata (2.9 kB)\n",
      "  Collecting importlib-metadata>=4.11.4 (from keyring<25.0.0,>=24.0.0->poetry>=0.12)\n",
      "    Using cached importlib_metadata-7.0.0-py3-none-any.whl.metadata (4.9 kB)\n",
      "  Collecting SecretStorage>=3.2 (from keyring<25.0.0,>=24.0.0->poetry>=0.12)\n",
      "    Using cached SecretStorage-3.3.3-py3-none-any.whl (15 kB)\n",
      "  Collecting jeepney>=0.4.2 (from keyring<25.0.0,>=24.0.0->poetry>=0.12)\n",
      "    Using cached jeepney-0.8.0-py3-none-any.whl (48 kB)\n",
      "  Collecting ptyprocess>=0.5 (from pexpect<5.0.0,>=4.7.0->poetry>=0.12)\n",
      "    Using cached ptyprocess-0.7.0-py2.py3-none-any.whl (13 kB)\n",
      "  Collecting charset-normalizer<4,>=2 (from requests<3.0,>=2.26->poetry>=0.12)\n",
      "    Using cached charset_normalizer-3.3.2-cp310-cp310-manylinux_2_17_x86_64.manylinux2014_x86_64.whl.metadata (33 kB)\n",
      "  Collecting idna<4,>=2.5 (from requests<3.0,>=2.26->poetry>=0.12)\n",
      "    Using cached idna-3.6-py3-none-any.whl.metadata (9.9 kB)\n",
      "  Collecting certifi>=2017.4.17 (from requests<3.0,>=2.26->poetry>=0.12)\n",
      "    Using cached certifi-2023.11.17-py3-none-any.whl.metadata (2.2 kB)\n",
      "  Collecting distlib<1,>=0.3.7 (from virtualenv<21.0.0,>=20.23.0->poetry>=0.12)\n",
      "    Using cached distlib-0.3.8-py2.py3-none-any.whl.metadata (5.1 kB)\n",
      "  Collecting zipp>=0.5 (from importlib-metadata>=4.11.4->keyring<25.0.0,>=24.0.0->poetry>=0.12)\n",
      "    Using cached zipp-3.17.0-py3-none-any.whl.metadata (3.7 kB)\n",
      "  Collecting cryptography>=2.0 (from SecretStorage>=3.2->keyring<25.0.0,>=24.0.0->poetry>=0.12)\n",
      "    Using cached cryptography-41.0.7-cp37-abi3-manylinux_2_28_x86_64.whl.metadata (5.2 kB)\n",
      "  Collecting more-itertools (from jaraco.classes->keyring<25.0.0,>=24.0.0->poetry>=0.12)\n",
      "    Using cached more_itertools-10.1.0-py3-none-any.whl.metadata (33 kB)\n",
      "  Collecting cffi>=1.12 (from cryptography>=2.0->SecretStorage>=3.2->keyring<25.0.0,>=24.0.0->poetry>=0.12)\n",
      "    Using cached cffi-1.16.0-cp310-cp310-manylinux_2_17_x86_64.manylinux2014_x86_64.whl.metadata (1.5 kB)\n",
      "  Collecting pycparser (from cffi>=1.12->cryptography>=2.0->SecretStorage>=3.2->keyring<25.0.0,>=24.0.0->poetry>=0.12)\n",
      "    Using cached pycparser-2.21-py2.py3-none-any.whl (118 kB)\n",
      "  Using cached poetry-1.7.1-py3-none-any.whl (235 kB)\n",
      "  Using cached poetry_core-1.8.1-py3-none-any.whl (306 kB)\n",
      "  Using cached build-1.0.3-py3-none-any.whl (18 kB)\n",
      "  Using cached cachecontrol-0.13.1-py3-none-any.whl (22 kB)\n",
      "  Using cached cleo-2.1.0-py3-none-any.whl (78 kB)\n",
      "  Using cached dulwich-0.21.7-cp310-cp310-manylinux_2_17_x86_64.manylinux2014_x86_64.whl (514 kB)\n",
      "  Using cached fastjsonschema-2.19.0-py3-none-any.whl (23 kB)\n",
      "  Using cached keyring-24.3.0-py3-none-any.whl (38 kB)\n",
      "  Using cached packaging-23.2-py3-none-any.whl (53 kB)\n",
      "  Using cached pexpect-4.9.0-py2.py3-none-any.whl (63 kB)\n",
      "  Using cached platformdirs-3.11.0-py3-none-any.whl (17 kB)\n",
      "  Using cached poetry_plugin_export-1.6.0-py3-none-any.whl (10 kB)\n",
      "  Using cached requests-2.31.0-py3-none-any.whl (62 kB)\n",
      "  Using cached shellingham-1.5.4-py2.py3-none-any.whl (9.8 kB)\n",
      "  Using cached tomlkit-0.12.3-py3-none-any.whl (37 kB)\n",
      "  Using cached trove_classifiers-2023.11.29-py3-none-any.whl (13 kB)\n",
      "  Using cached virtualenv-20.25.0-py3-none-any.whl (3.8 MB)\n",
      "  Using cached certifi-2023.11.17-py3-none-any.whl (162 kB)\n",
      "  Using cached charset_normalizer-3.3.2-cp310-cp310-manylinux_2_17_x86_64.manylinux2014_x86_64.whl (142 kB)\n",
      "  Using cached distlib-0.3.8-py2.py3-none-any.whl (468 kB)\n",
      "  Using cached filelock-3.13.1-py3-none-any.whl (11 kB)\n",
      "  Using cached idna-3.6-py3-none-any.whl (61 kB)\n",
      "  Using cached importlib_metadata-7.0.0-py3-none-any.whl (23 kB)\n",
      "  Using cached msgpack-1.0.7-cp310-cp310-manylinux_2_17_x86_64.manylinux2014_x86_64.whl (530 kB)\n",
      "  Using cached rapidfuzz-3.5.2-cp310-cp310-manylinux_2_17_x86_64.manylinux2014_x86_64.whl (3.3 MB)\n",
      "  Using cached urllib3-2.1.0-py3-none-any.whl (104 kB)\n",
      "  Using cached jaraco.classes-3.3.0-py3-none-any.whl (5.9 kB)\n",
      "  Using cached cryptography-41.0.7-cp37-abi3-manylinux_2_28_x86_64.whl (4.4 MB)\n",
      "  Using cached zipp-3.17.0-py3-none-any.whl (7.4 kB)\n",
      "  Using cached more_itertools-10.1.0-py3-none-any.whl (55 kB)\n",
      "  Using cached cffi-1.16.0-cp310-cp310-manylinux_2_17_x86_64.manylinux2014_x86_64.whl (443 kB)\n",
      "  Installing collected packages: trove-classifiers, ptyprocess, fastjsonschema, distlib, zipp, urllib3, tomlkit, tomli, shellingham, rapidfuzz, pycparser, poetry-core, platformdirs, pkginfo, pexpect, packaging, msgpack, more-itertools, jeepney, installer, idna, filelock, crashtest, charset-normalizer, certifi, virtualenv, requests, pyproject-hooks, jaraco.classes, importlib-metadata, dulwich, cleo, cffi, requests-toolbelt, cryptography, cachecontrol, build, SecretStorage, keyring, poetry-plugin-export, poetry\n",
      "  Successfully installed SecretStorage-3.3.3 build-1.0.3 cachecontrol-0.13.1 certifi-2023.11.17 cffi-1.16.0 charset-normalizer-3.3.2 cleo-2.1.0 crashtest-0.4.1 cryptography-41.0.7 distlib-0.3.8 dulwich-0.21.7 fastjsonschema-2.19.0 filelock-3.13.1 idna-3.6 importlib-metadata-7.0.0 installer-0.7.0 jaraco.classes-3.3.0 jeepney-0.8.0 keyring-24.3.0 more-itertools-10.1.0 msgpack-1.0.7 packaging-23.2 pexpect-4.9.0 pkginfo-1.9.6 platformdirs-3.11.0 poetry-1.7.1 poetry-core-1.8.1 poetry-plugin-export-1.6.0 ptyprocess-0.7.0 pycparser-2.21 pyproject-hooks-1.0.0 rapidfuzz-3.5.2 requests-2.31.0 requests-toolbelt-1.0.0 shellingham-1.5.4 tomli-2.0.1 tomlkit-0.12.3 trove-classifiers-2023.11.29 urllib3-2.1.0 virtualenv-20.25.0 zipp-3.17.0\n",
      "  \u001b[33mWARNING: Running pip as the 'root' user can result in broken permissions and conflicting behaviour with the system package manager. It is recommended to use a virtual environment instead: https://pip.pypa.io/warnings/venv\u001b[0m\u001b[33m\n",
      "  \u001b[0m\n",
      "  Installing build dependencies ... \u001b[?25l\u001b[?25hdone\n",
      "  Running command Getting requirements to build wheel\n",
      "  Getting requirements to build wheel ... \u001b[?25l\u001b[?25hdone\n",
      "  Running command Preparing metadata (pyproject.toml)\n",
      "  Preparing metadata (pyproject.toml) ... \u001b[?25l\u001b[?25hdone\n",
      "\u001b[33mWARNING: Running pip as the 'root' user can result in broken permissions and conflicting behaviour with the system package manager. It is recommended to use a virtual environment instead: https://pip.pypa.io/warnings/venv\u001b[0m\u001b[33m\n",
      "\u001b[0m"
     ]
    }
   ],
   "source": [
    "GIT_BRANCH=\"aviyan-dev\"\n",
    "! pip install --verbose --no-cache-dir git+https://github.com/tomasohara/mezcla@{GIT_BRANCH};"
   ]
  },
  {
   "cell_type": "code",
   "execution_count": 2,
   "id": "103701cb",
   "metadata": {},
   "outputs": [
    {
     "name": "stderr",
     "output_type": "stream",
     "text": [
      "PATH=/opt/conda/bin:/usr/local/nvidia/bin:/usr/local/cuda/bin:/usr/local/sbin:/usr/local/bin:/usr/sbin:/usr/bin:/sbin:/bin\n",
      "PYTHONPATH=None\n"
     ]
    }
   ],
   "source": [
    "# Import package\n",
    "import mezcla\n",
    "from mezcla import debug\n",
    "from mezcla import system\n",
    "from mezcla import glue_helpers as gh\n",
    "debug.set_level(4)\n",
    "for var in [\"PATH\", \"PYTHONPATH\"]:\n",
    "    debug.trace(4, f\"{var}={system.getenv(var)}\")\n",
    "## TODO:\n",
    "## mezcla_info = gh.run(\"mezcla\")\n",
    "## print(mezcla_info)"
   ]
  },
  {
   "cell_type": "code",
   "execution_count": 3,
   "id": "a996d3ef-3229-41d1-980b-c17a50be47fd",
   "metadata": {},
   "outputs": [
    {
     "name": "stdout",
     "output_type": "stream",
     "text": [
      "Requirement already satisfied: sentencepiece in /opt/conda/lib/python3.10/site-packages (0.1.99)\n",
      "\u001b[33mWARNING: Running pip as the 'root' user can result in broken permissions and conflicting behaviour with the system package manager. It is recommended to use a virtual environment instead: https://pip.pypa.io/warnings/venv\u001b[0m\u001b[33m\n",
      "\u001b[0m"
     ]
    }
   ],
   "source": [
    "# Tokenizer Required for speechrec\n",
    "! pip3 install sentencepiece"
   ]
  },
  {
   "cell_type": "code",
   "execution_count": 4,
   "id": "900fb65e",
   "metadata": {},
   "outputs": [
    {
     "name": "stderr",
     "output_type": "stream",
     "text": [
      "issuing: find / -name \"simple_main_example.py\" 2> /dev/null | head -n 1\n"
     ]
    },
    {
     "name": "stdout",
     "output_type": "stream",
     "text": [
      "/opt/conda/lib/python3.10/site-packages/mezcla\n"
     ]
    }
   ],
   "source": [
    "## TO BE DONE (For cloud use): \n",
    "cmd_find_mezcla = 'find / -name \"simple_main_example.py\" 2> /dev/null | head -n 1'\n",
    "cmd_output = gh.run(cmd_find_mezcla)\n",
    "MEZCLA_DIR = gh.dir_path(cmd_output)\n",
    "! echo {MEZCLA_DIR}\n",
    "\n",
    "# TODO: MEZCLA_DIR=top-of-result\n",
    "\n",
    "## BAD (For local use only): Browsing the local files\n",
    "# MEZCLA_DIR=gh.resolve_path(\"../../\")"
   ]
  },
  {
   "cell_type": "code",
   "execution_count": 5,
   "id": "e6e94855",
   "metadata": {},
   "outputs": [],
   "source": [
    "# Defining path for HuggingFace Speechrec\n",
    "HF_SPEECHREC_PATH = f\"{MEZCLA_DIR}/examples/hugging_face_speechrec.py\""
   ]
  },
  {
   "cell_type": "code",
   "execution_count": 6,
   "id": "38dd0aaa-9434-4dcc-afb9-b9f064d7ec32",
   "metadata": {},
   "outputs": [
    {
     "name": "stdout",
     "output_type": "stream",
     "text": [
      "usage: hugging_face_speechrec.py [-h] [--verbose] [filename]\n",
      "\n",
      "Speech recognition via Hugging Face\n",
      "\n",
      "Example:\n",
      "\n",
      "/opt/conda/lib/python3.10/site-packages/mezcla/examples/hugging_face_speechrec.py /opt/conda/lib/python3.10/site-packages/mezcla/examples/fuzzy-testing-1-2-3.wav\n",
      "\n",
      "USE_INTERFACE=1 hugging_face_speechrec.py -\n",
      "\n",
      "positional arguments:\n",
      "  filename    Input filename\n",
      "\n",
      "options:\n",
      "  -h, --help  show this help message and exit\n",
      "  --verbose   Verbose output mode\n",
      "\n",
      "Notes: \n",
      "- Use - for filename to skip usage (i.e., a la stdin).\n",
      "- Use \"ENV1='v1' ENV2='v2' python .../hugging_face_speechrec.py ...\" for environment options.\n"
     ]
    }
   ],
   "source": [
    "# Basic Run\n",
    "! python3 {HF_SPEECHREC_PATH}"
   ]
  },
  {
   "cell_type": "code",
   "execution_count": 7,
   "id": "1a638cb9-6271-4116-8e8a-27b5fa8ac774",
   "metadata": {},
   "outputs": [
    {
     "name": "stderr",
     "output_type": "stream",
     "text": [
      "issuing: python3 /opt/conda/lib/python3.10/site-packages/mezcla/examples/hugging_face_speechrec.py /opt/conda/lib/python3.10/site-packages/mezcla/mezcla/examples/fuzzy-1-2-3-testing.wav 2> /dev/null\n"
     ]
    },
    {
     "name": "stdout",
     "output_type": "stream",
     "text": [
      "fifteen one two three testing\n"
     ]
    }
   ],
   "source": [
    "# Default Run - Model Used: facebook/s2t-medium-librispeech-asr\n",
    "command_default = f\"python3 {HF_SPEECHREC_PATH} {MEZCLA_DIR}/mezcla/examples/fuzzy-1-2-3-testing.wav 2> /dev/null\"\n",
    "command_default_output = gh.run(command_default)\n",
    "print (command_default_output)"
   ]
  },
  {
   "cell_type": "code",
   "execution_count": 8,
   "id": "227db72b-a95f-413d-bd61-fda34eea7ff1",
   "metadata": {},
   "outputs": [
    {
     "name": "stderr",
     "output_type": "stream",
     "text": [
      "issuing: ASR_MODEL='openai/whisper-large-v3' python3 /opt/conda/lib/python3.10/site-packages/mezcla/examples/hugging_face_speechrec.py /opt/conda/lib/python3.10/site-packages/mezcla/mezcla/examples/fuzzy-1-2-3-testing.wav 2> /dev/null\n"
     ]
    },
    {
     "name": "stdout",
     "output_type": "stream",
     "text": [
      " Testing, one, two, three, testing.\n"
     ]
    }
   ],
   "source": [
    "# Run 1 - Using different model: openai/whisper-large-v3\n",
    "command_whisper_large_v3 = f\"ASR_MODEL='openai/whisper-large-v3' python3 {HF_SPEECHREC_PATH} {MEZCLA_DIR}/mezcla/examples/fuzzy-1-2-3-testing.wav 2> /dev/null\"\n",
    "output_whisper_large_v3 = gh.run(command_whisper_large_v3)\n",
    "print(output_whisper_large_v3)"
   ]
  },
  {
   "cell_type": "code",
   "execution_count": null,
   "id": "6ff6af71-5272-4a0d-be75-901a954bbd46",
   "metadata": {},
   "outputs": [],
   "source": []
  }
 ],
 "metadata": {
  "kernelspec": {
   "display_name": "Python 3 (ipykernel)",
   "language": "python",
   "name": "python3"
  },
  "language_info": {
   "codemirror_mode": {
    "name": "ipython",
    "version": 3
   },
   "file_extension": ".py",
   "mimetype": "text/x-python",
   "name": "python",
   "nbconvert_exporter": "python",
   "pygments_lexer": "ipython3",
   "version": "3.10.13"
  }
 },
 "nbformat": 4,
 "nbformat_minor": 5
}
